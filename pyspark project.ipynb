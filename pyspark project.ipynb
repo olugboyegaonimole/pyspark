{
 "cells": [
  {
   "cell_type": "code",
   "execution_count": 1,
   "metadata": {},
   "outputs": [],
   "source": [
    "# import libraries\n",
    "\n",
    "import findspark\n",
    "\n",
    "findspark.init()\n",
    "\n",
    "from pyspark import SparkContext\n",
    "\n",
    "from pyspark import SparkConf\n",
    "\n",
    "from pyspark.sql import SparkSession\n"
   ]
  },
  {
   "cell_type": "code",
   "execution_count": 2,
   "metadata": {},
   "outputs": [
    {
     "data": {
      "text/plain": [
       "'\\nor\\n\\nsparksession1 = SparkSession.builder.appName(\\'Ops\\').config(\"spark.some.config.option\", \"some-value\").getOrCreate()\\n'"
      ]
     },
     "execution_count": 2,
     "metadata": {},
     "output_type": "execute_result"
    }
   ],
   "source": [
    "# create spark session\n",
    "\n",
    "sparksession1 = SparkSession.builder.appName('Ops').getOrCreate()\n",
    "\n",
    "\n",
    "'''\n",
    "or\n",
    "\n",
    "sparksession1 = SparkSession.builder.appName('Ops').config(\"spark.some.config.option\", \"some-value\").getOrCreate()\n",
    "'''"
   ]
  },
  {
   "cell_type": "code",
   "execution_count": 5,
   "metadata": {},
   "outputs": [],
   "source": [
    "# create dataframe\n",
    "\n",
    "df = sparksession1.read.csv('file1.csv', inferSchema=True, header=True)"
   ]
  },
  {
   "cell_type": "code",
   "execution_count": 6,
   "metadata": {},
   "outputs": [
    {
     "name": "stdout",
     "output_type": "stream",
     "text": [
      "+-------------------+-------+----+---------------+---------------+---------------+---------+----------+-----------+--------------------+-----------------------+--------------------------------+----------------------------+-----------------+---------------+-------------------+---------------+\n",
      "|         Both Sexes|  Total|None|1st - 4th grade|5th - 6th grade|7th - 8th grade|9th grade|10th grade|11th grade2|High school graduate|Some college, no degree|Associate's degree, occupational|Associate's degree, academic|Bachelor's degree|Master's degree|Professional degree|Doctoral degree|\n",
      "+-------------------+-------+----+---------------+---------------+---------------+---------+----------+-----------+--------------------+-----------------------+--------------------------------+----------------------------+-----------------+---------------+-------------------+---------------+\n",
      "| .18 years and over|249,193| 824|          1,445|          3,173|          3,669|    3,415|     4,070|     10,577|              71,368|                 46,175|                          10,341|                      13,761|           51,406|         21,280|              3,202|          4,487|\n",
      "|   ..18 to 24 years| 29,363|  76|             65|             91|            151|      189|       522|      3,670|               8,683|                 10,734|                             695|                       1,039|            3,170|            232|                 29|             18|\n",
      "| .25 years and over|219,830| 748|          1,381|          3,082|          3,518|    3,227|     3,548|      6,907|              62,685|                 35,442|                           9,647|                      12,722|           48,235|         21,048|              3,172|          4,468|\n",
      "|   ..25 to 29 years| 23,160|  41|             23|            128|            204|      251|       307|        679|               6,162|                  4,543|                             924|                       1,331|            6,478|          1,618|                209|            259|\n",
      "|   ..30 to 34 years| 21,695|  38|             79|            210|            234|      294|       277|        626|               5,297|                  3,312|                           1,044|                       1,346|            5,893|          2,210|                314|            520|\n",
      "|   ..35 to 39 years| 21,269|  60|            109|            320|            251|      361|       263|        705|               5,049|                  3,295|                             964|                       1,282|            5,308|          2,494|                317|            492|\n",
      "|   ..40 to 44 years| 19,391|  61|            122|            304|            250|      288|       265|        525|               4,870|                  2,837|                             920|                       1,161|            4,725|          2,353|                279|            430|\n",
      "|   ..45 to 49 years| 20,638|  76|             93|            282|            289|      317|       289|        671|               5,547|                  3,110|                             909|                       1,338|            4,658|          2,256|                369|            435|\n",
      "|   ..50 to 54 years| 20,899|  45|            123|            328|            265|      285|       343|        662|               6,215|                  3,208|                             954|                       1,362|            4,465|          1,944|                297|            402|\n",
      "|   ..55 to 59 years| 21,622|  66|            127|            292|            324|      276|       323|        811|               6,807|                  3,437|                           1,060|                       1,303|            4,352|          1,787|                297|            359|\n",
      "|   ..60 to 64 years| 20,078|  82|            129|            325|            265|      247|       277|        594|               6,137|                  3,399|                             967|                       1,211|            3,920|          1,788|                300|            435|\n",
      "|   ..65 to 69 years| 17,007|  63|            132|            260|            277|      239|       277|        489|               4,895|                  2,820|                             790|                         989|            3,293|          1,826|                260|            398|\n",
      "|   ..70 to 74 years| 13,359|  64|            111|            216|            294|      223|       273|        367|               4,114|                  2,251|                             487|                         632|            2,423|          1,312|                244|            348|\n",
      "|..75 years and over| 20,713| 152|            332|            417|            864|      447|       653|        777|               7,592|                  3,229|                             628|                         766|            2,719|          1,459|                287|            390|\n",
      "+-------------------+-------+----+---------------+---------------+---------------+---------+----------+-----------+--------------------+-----------------------+--------------------------------+----------------------------+-----------------+---------------+-------------------+---------------+\n",
      "\n"
     ]
    }
   ],
   "source": [
    "df.show()"
   ]
  },
  {
   "cell_type": "code",
   "execution_count": null,
   "metadata": {},
   "outputs": [],
   "source": []
  }
 ],
 "metadata": {
  "kernelspec": {
   "display_name": "Python 3",
   "language": "python",
   "name": "python3"
  },
  "language_info": {
   "codemirror_mode": {
    "name": "ipython",
    "version": 3
   },
   "file_extension": ".py",
   "mimetype": "text/x-python",
   "name": "python",
   "nbconvert_exporter": "python",
   "pygments_lexer": "ipython3",
   "version": "3.7.1"
  }
 },
 "nbformat": 4,
 "nbformat_minor": 2
}
