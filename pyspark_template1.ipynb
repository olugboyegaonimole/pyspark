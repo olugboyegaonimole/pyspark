{
 "cells": [
  {
   "cell_type": "markdown",
   "metadata": {},
   "source": [
    "PYSPARK OPERATIONS\n",
    "\n",
    "\n",
    "\n",
    "A. INSTALLATION\n",
    "\n",
    "1. install pyspark library in terminal\n",
    "\n",
    "2. import findspark and modules\n",
    "\n",
    "\n",
    "\n",
    "B. UNTYPED DATAFRAME OPERATIONS\n",
    "\n",
    "1. create spark session\n",
    "\n",
    "2. create dataframe from csv\n",
    "\n",
    "3. print schema in a tree format\n",
    "\n",
    "4. create dataframe from json\n",
    "\n",
    "5. show entire dataframe\n",
    "\n",
    "6. select and show one column from the dataframe\n",
    "\n",
    "7. select several columns, and perform a mathematical operation on the values in one of the columns\n",
    "\n",
    "8. filter rows based on a criterion\n",
    "\n",
    "9. filter rows based on a criterion then select columns\n",
    "\n",
    "10. take a field, group identical values in that field, count them, show results\n",
    "\n",
    "\n",
    "\n",
    "C. RUNNING SQL QUERIES PROGRAMMATICALLY\n",
    "\n",
    "1. create temporary view from your dataframe\n",
    "\n",
    "- view will disappear after the session terminates\n",
    "\n",
    "\n",
    "2. call sql query on temporary view and pass query into the sql() funcion\n",
    "\n",
    "\n",
    "3. create global temporary view\n",
    "\n",
    "- shared among all sessions\n",
    "- will stay alive until spark application terminates; \n",
    "- view is tied to global_temp, a system preserved database;\n",
    "- refer to your view as global_temp.name_of_your_view\n",
    "\n",
    "\n",
    "4. access the global temporary view from a new session using the newSession() method\n",
    "\n",
    "\n",
    "\n",
    "\n",
    "\n",
    "\n",
    "APPENDIX\n",
    "\n",
    "1. difference between a package and a module\n",
    "\n",
    "https://www.tutorialspoint.com/What-is-the-difference-between-a-python-module-and-a-python-package\n",
    "\n",
    "\n",
    "2. library > package > module > sub module > class > method\n",
    "\n",
    "\n",
    "3. difference between a module and a sub module\n",
    "\n",
    "from module import submodule\n",
    "\n",
    "eg. from datetime import date\n",
    "\n",
    "\n",
    "4. module, package and directory\n",
    "\n",
    "a module is a python file\n",
    "\n",
    "a package is a directory of modules\n",
    "\n",
    "a directory is a package containing an additional __init__.py file"
   ]
  },
  {
   "cell_type": "code",
   "execution_count": 3,
   "metadata": {},
   "outputs": [],
   "source": [
    "# import libraries\n",
    "\n",
    "import findspark"
   ]
  },
  {
   "cell_type": "code",
   "execution_count": 4,
   "metadata": {},
   "outputs": [],
   "source": [
    "findspark.init()"
   ]
  },
  {
   "cell_type": "code",
   "execution_count": 5,
   "metadata": {},
   "outputs": [],
   "source": [
    "from pyspark import SparkContext"
   ]
  },
  {
   "cell_type": "code",
   "execution_count": 6,
   "metadata": {},
   "outputs": [],
   "source": [
    "from pyspark import SparkConf"
   ]
  },
  {
   "cell_type": "code",
   "execution_count": 7,
   "metadata": {},
   "outputs": [],
   "source": [
    "from pyspark.sql import SparkSession"
   ]
  },
  {
   "cell_type": "code",
   "execution_count": 8,
   "metadata": {},
   "outputs": [
    {
     "data": {
      "text/plain": [
       "'\\nor\\n\\nsparksession1 = SparkSession.builder.appName(\\'Ops\\').config(\"spark.some.config.option\", \"some-value\").getOrCreate()\\n'"
      ]
     },
     "execution_count": 8,
     "metadata": {},
     "output_type": "execute_result"
    }
   ],
   "source": [
    "# create spark session\n",
    "\n",
    "sparksession1 = SparkSession.builder.appName('Ops').getOrCreate()\n",
    "\n",
    "\n",
    "'''\n",
    "or\n",
    "\n",
    "sparksession1 = SparkSession.builder.appName('Ops').config(\"spark.some.config.option\", \"some-value\").getOrCreate()\n",
    "'''"
   ]
  },
  {
   "cell_type": "code",
   "execution_count": 9,
   "metadata": {},
   "outputs": [
    {
     "data": {
      "text/plain": [
       "'\\ndf = sparksession1.read.json(\"examples/src/main/resources/people.json\")\\n# Displays the content of the DataFrame to stdout\\n\\ndf.show()\\n'"
      ]
     },
     "execution_count": 9,
     "metadata": {},
     "output_type": "execute_result"
    }
   ],
   "source": [
    "'''\n",
    "\n",
    "# create dataframe from json\n",
    "\n",
    "df = sparksession1.read.json(\"examples/src/main/resources/people.json\")\n",
    "# Displays the content of the DataFrame to stdout\n",
    "\n",
    "df.show()\n",
    "\n",
    "'''"
   ]
  },
  {
   "cell_type": "code",
   "execution_count": 10,
   "metadata": {},
   "outputs": [],
   "source": [
    "# create dataframe from csv\n",
    "\n",
    "df = sparksession1.read.csv('heart.csv', inferSchema=True, header=True)"
   ]
  },
  {
   "cell_type": "code",
   "execution_count": 13,
   "metadata": {},
   "outputs": [
    {
     "name": "stdout",
     "output_type": "stream",
     "text": [
      "root\n",
      " |-- age: integer (nullable = true)\n",
      " |-- sex: integer (nullable = true)\n",
      " |-- cp: integer (nullable = true)\n",
      " |-- trestbps: integer (nullable = true)\n",
      " |-- chol: integer (nullable = true)\n",
      " |-- fbs: integer (nullable = true)\n",
      " |-- restecg: integer (nullable = true)\n",
      " |-- thalach: integer (nullable = true)\n",
      " |-- exang: integer (nullable = true)\n",
      " |-- oldpeak: double (nullable = true)\n",
      " |-- slope: integer (nullable = true)\n",
      " |-- ca: integer (nullable = true)\n",
      " |-- thal: integer (nullable = true)\n",
      " |-- target: integer (nullable = true)\n",
      "\n"
     ]
    }
   ],
   "source": [
    "# print the schema in a tree format\n",
    "\n",
    "df.printSchema()"
   ]
  },
  {
   "cell_type": "code",
   "execution_count": 14,
   "metadata": {},
   "outputs": [
    {
     "name": "stdout",
     "output_type": "stream",
     "text": [
      "+---+---+---+--------+----+---+-------+-------+-----+-------+-----+---+----+------+\n",
      "|age|sex| cp|trestbps|chol|fbs|restecg|thalach|exang|oldpeak|slope| ca|thal|target|\n",
      "+---+---+---+--------+----+---+-------+-------+-----+-------+-----+---+----+------+\n",
      "| 63|  1|  3|     145| 233|  1|      0|    150|    0|    2.3|    0|  0|   1|     1|\n",
      "| 37|  1|  2|     130| 250|  0|      1|    187|    0|    3.5|    0|  0|   2|     1|\n",
      "| 41|  0|  1|     130| 204|  0|      0|    172|    0|    1.4|    2|  0|   2|     1|\n",
      "| 56|  1|  1|     120| 236|  0|      1|    178|    0|    0.8|    2|  0|   2|     1|\n",
      "| 57|  0|  0|     120| 354|  0|      1|    163|    1|    0.6|    2|  0|   2|     1|\n",
      "| 57|  1|  0|     140| 192|  0|      1|    148|    0|    0.4|    1|  0|   1|     1|\n",
      "| 56|  0|  1|     140| 294|  0|      0|    153|    0|    1.3|    1|  0|   2|     1|\n",
      "| 44|  1|  1|     120| 263|  0|      1|    173|    0|    0.0|    2|  0|   3|     1|\n",
      "| 52|  1|  2|     172| 199|  1|      1|    162|    0|    0.5|    2|  0|   3|     1|\n",
      "| 57|  1|  2|     150| 168|  0|      1|    174|    0|    1.6|    2|  0|   2|     1|\n",
      "| 54|  1|  0|     140| 239|  0|      1|    160|    0|    1.2|    2|  0|   2|     1|\n",
      "| 48|  0|  2|     130| 275|  0|      1|    139|    0|    0.2|    2|  0|   2|     1|\n",
      "| 49|  1|  1|     130| 266|  0|      1|    171|    0|    0.6|    2|  0|   2|     1|\n",
      "| 64|  1|  3|     110| 211|  0|      0|    144|    1|    1.8|    1|  0|   2|     1|\n",
      "| 58|  0|  3|     150| 283|  1|      0|    162|    0|    1.0|    2|  0|   2|     1|\n",
      "| 50|  0|  2|     120| 219|  0|      1|    158|    0|    1.6|    1|  0|   2|     1|\n",
      "| 58|  0|  2|     120| 340|  0|      1|    172|    0|    0.0|    2|  0|   2|     1|\n",
      "| 66|  0|  3|     150| 226|  0|      1|    114|    0|    2.6|    0|  0|   2|     1|\n",
      "| 43|  1|  0|     150| 247|  0|      1|    171|    0|    1.5|    2|  0|   2|     1|\n",
      "| 69|  0|  3|     140| 239|  0|      1|    151|    0|    1.8|    2|  2|   2|     1|\n",
      "+---+---+---+--------+----+---+-------+-------+-----+-------+-----+---+----+------+\n",
      "only showing top 20 rows\n",
      "\n"
     ]
    }
   ],
   "source": [
    "# show entire dataframe\n",
    "\n",
    "df.show()"
   ]
  },
  {
   "cell_type": "code",
   "execution_count": 12,
   "metadata": {},
   "outputs": [
    {
     "name": "stdout",
     "output_type": "stream",
     "text": [
      "+---+\n",
      "|age|\n",
      "+---+\n",
      "| 63|\n",
      "| 37|\n",
      "| 41|\n",
      "| 56|\n",
      "| 57|\n",
      "| 57|\n",
      "| 56|\n",
      "| 44|\n",
      "| 52|\n",
      "| 57|\n",
      "| 54|\n",
      "| 48|\n",
      "| 49|\n",
      "| 64|\n",
      "| 58|\n",
      "| 50|\n",
      "| 58|\n",
      "| 66|\n",
      "| 43|\n",
      "| 69|\n",
      "+---+\n",
      "only showing top 20 rows\n",
      "\n"
     ]
    }
   ],
   "source": [
    "# select and show one column from the dataframe\n",
    "\n",
    "df.select('age').show()"
   ]
  },
  {
   "cell_type": "code",
   "execution_count": 15,
   "metadata": {},
   "outputs": [
    {
     "name": "stdout",
     "output_type": "stream",
     "text": [
      "+---------+---+\n",
      "|(age * 8)|sex|\n",
      "+---------+---+\n",
      "|      504|  1|\n",
      "|      296|  1|\n",
      "|      328|  0|\n",
      "|      448|  1|\n",
      "|      456|  0|\n",
      "|      456|  1|\n",
      "|      448|  0|\n",
      "|      352|  1|\n",
      "|      416|  1|\n",
      "|      456|  1|\n",
      "|      432|  1|\n",
      "|      384|  0|\n",
      "|      392|  1|\n",
      "|      512|  1|\n",
      "|      464|  0|\n",
      "|      400|  0|\n",
      "|      464|  0|\n",
      "|      528|  0|\n",
      "|      344|  1|\n",
      "|      552|  0|\n",
      "+---------+---+\n",
      "only showing top 20 rows\n",
      "\n"
     ]
    }
   ],
   "source": [
    "# select several columns, and perform a mathematical operation on the values in one of the columns\n",
    "\n",
    "df.select(df['age'] * 8, df['sex']).show()"
   ]
  },
  {
   "cell_type": "code",
   "execution_count": 16,
   "metadata": {},
   "outputs": [
    {
     "name": "stdout",
     "output_type": "stream",
     "text": [
      "root\n",
      " |-- age: integer (nullable = true)\n",
      " |-- sex: integer (nullable = true)\n",
      " |-- cp: integer (nullable = true)\n",
      " |-- trestbps: integer (nullable = true)\n",
      " |-- chol: integer (nullable = true)\n",
      " |-- fbs: integer (nullable = true)\n",
      " |-- restecg: integer (nullable = true)\n",
      " |-- thalach: integer (nullable = true)\n",
      " |-- exang: integer (nullable = true)\n",
      " |-- oldpeak: double (nullable = true)\n",
      " |-- slope: integer (nullable = true)\n",
      " |-- ca: integer (nullable = true)\n",
      " |-- thal: integer (nullable = true)\n",
      " |-- target: integer (nullable = true)\n",
      "\n"
     ]
    }
   ],
   "source": [
    "df.printSchema()"
   ]
  },
  {
   "cell_type": "code",
   "execution_count": 18,
   "metadata": {},
   "outputs": [
    {
     "name": "stdout",
     "output_type": "stream",
     "text": [
      "+------------------+----+\n",
      "|      (chol / 300)|thal|\n",
      "+------------------+----+\n",
      "|0.7766666666666666|   1|\n",
      "|0.8333333333333334|   2|\n",
      "|              0.68|   2|\n",
      "|0.7866666666666666|   2|\n",
      "|              1.18|   2|\n",
      "|              0.64|   1|\n",
      "|              0.98|   2|\n",
      "|0.8766666666666667|   3|\n",
      "|0.6633333333333333|   3|\n",
      "|              0.56|   2|\n",
      "|0.7966666666666666|   2|\n",
      "|0.9166666666666666|   2|\n",
      "|0.8866666666666667|   2|\n",
      "|0.7033333333333334|   2|\n",
      "|0.9433333333333334|   2|\n",
      "|              0.73|   2|\n",
      "|1.1333333333333333|   2|\n",
      "|0.7533333333333333|   2|\n",
      "|0.8233333333333334|   2|\n",
      "|0.7966666666666666|   2|\n",
      "+------------------+----+\n",
      "only showing top 20 rows\n",
      "\n"
     ]
    }
   ],
   "source": [
    "df.select(df['chol'] / 300, df['thal']).show()"
   ]
  },
  {
   "cell_type": "code",
   "execution_count": 19,
   "metadata": {
    "scrolled": true
   },
   "outputs": [
    {
     "name": "stdout",
     "output_type": "stream",
     "text": [
      "+---+---+---+--------+----+---+-------+-------+-----+-------+-----+---+----+------+\n",
      "|age|sex| cp|trestbps|chol|fbs|restecg|thalach|exang|oldpeak|slope| ca|thal|target|\n",
      "+---+---+---+--------+----+---+-------+-------+-----+-------+-----+---+----+------+\n",
      "| 63|  1|  3|     145| 233|  1|      0|    150|    0|    2.3|    0|  0|   1|     1|\n",
      "| 56|  1|  1|     120| 236|  0|      1|    178|    0|    0.8|    2|  0|   2|     1|\n",
      "| 57|  0|  0|     120| 354|  0|      1|    163|    1|    0.6|    2|  0|   2|     1|\n",
      "| 57|  1|  0|     140| 192|  0|      1|    148|    0|    0.4|    1|  0|   1|     1|\n",
      "| 56|  0|  1|     140| 294|  0|      0|    153|    0|    1.3|    1|  0|   2|     1|\n",
      "| 57|  1|  2|     150| 168|  0|      1|    174|    0|    1.6|    2|  0|   2|     1|\n",
      "| 64|  1|  3|     110| 211|  0|      0|    144|    1|    1.8|    1|  0|   2|     1|\n",
      "| 58|  0|  3|     150| 283|  1|      0|    162|    0|    1.0|    2|  0|   2|     1|\n",
      "| 58|  0|  2|     120| 340|  0|      1|    172|    0|    0.0|    2|  0|   2|     1|\n",
      "| 66|  0|  3|     150| 226|  0|      1|    114|    0|    2.6|    0|  0|   2|     1|\n",
      "| 69|  0|  3|     140| 239|  0|      1|    151|    0|    1.8|    2|  2|   2|     1|\n",
      "| 59|  1|  0|     135| 234|  0|      1|    161|    0|    0.5|    1|  0|   3|     1|\n",
      "| 61|  1|  2|     150| 243|  1|      1|    137|    1|    1.0|    1|  0|   2|     1|\n",
      "| 71|  0|  1|     160| 302|  0|      1|    162|    0|    0.4|    2|  2|   2|     1|\n",
      "| 59|  1|  2|     150| 212|  1|      1|    157|    0|    1.6|    2|  0|   2|     1|\n",
      "| 65|  0|  2|     140| 417|  1|      0|    157|    0|    0.8|    2|  1|   2|     1|\n",
      "| 65|  1|  0|     120| 177|  0|      1|    140|    0|    0.4|    2|  0|   3|     1|\n",
      "| 65|  0|  2|     155| 269|  0|      1|    148|    0|    0.8|    2|  0|   2|     1|\n",
      "| 65|  0|  2|     160| 360|  0|      0|    151|    0|    0.8|    2|  0|   2|     1|\n",
      "| 66|  1|  0|     120| 302|  0|      0|    151|    0|    0.4|    1|  0|   2|     1|\n",
      "+---+---+---+--------+----+---+-------+-------+-----+-------+-----+---+----+------+\n",
      "only showing top 20 rows\n",
      "\n"
     ]
    }
   ],
   "source": [
    "# filter rows based on a criterion\n",
    "\n",
    "df.filter(df['age'] > 55).show()"
   ]
  },
  {
   "cell_type": "code",
   "execution_count": 22,
   "metadata": {
    "scrolled": true
   },
   "outputs": [
    {
     "name": "stdout",
     "output_type": "stream",
     "text": [
      "+---+\n",
      "|age|\n",
      "+---+\n",
      "| 63|\n",
      "| 56|\n",
      "| 57|\n",
      "| 57|\n",
      "| 56|\n",
      "| 57|\n",
      "| 64|\n",
      "| 58|\n",
      "| 58|\n",
      "| 66|\n",
      "| 69|\n",
      "| 59|\n",
      "| 61|\n",
      "| 71|\n",
      "| 59|\n",
      "| 65|\n",
      "| 65|\n",
      "| 65|\n",
      "| 65|\n",
      "| 66|\n",
      "+---+\n",
      "only showing top 20 rows\n",
      "\n"
     ]
    }
   ],
   "source": [
    "# filter rows based on a criterion then select specific columns\n",
    "\n",
    "df2 = df.filter(df['age'] > 55)\n",
    "\n",
    "df2.select(df['age']).show()"
   ]
  },
  {
   "cell_type": "code",
   "execution_count": 23,
   "metadata": {},
   "outputs": [
    {
     "name": "stdout",
     "output_type": "stream",
     "text": [
      "+---+-----+\n",
      "|age|count|\n",
      "+---+-----+\n",
      "| 65|    8|\n",
      "| 53|    8|\n",
      "| 34|    2|\n",
      "| 76|    1|\n",
      "| 44|   11|\n",
      "| 47|    5|\n",
      "| 52|   13|\n",
      "| 40|    3|\n",
      "| 57|   17|\n",
      "| 54|   16|\n",
      "| 48|    7|\n",
      "| 64|   10|\n",
      "| 41|   10|\n",
      "| 43|    8|\n",
      "| 37|    2|\n",
      "| 61|    8|\n",
      "| 35|    4|\n",
      "| 59|   14|\n",
      "| 55|    8|\n",
      "| 39|    4|\n",
      "+---+-----+\n",
      "only showing top 20 rows\n",
      "\n"
     ]
    }
   ],
   "source": [
    "# take a field, group identical values, count them, show results\n",
    "\n",
    "df.groupBy('age').count().show()"
   ]
  },
  {
   "cell_type": "code",
   "execution_count": 24,
   "metadata": {},
   "outputs": [],
   "source": [
    "# create temporary view from your dataframe\n",
    "\n",
    "df.createOrReplaceTempView(\"temporary\")"
   ]
  },
  {
   "cell_type": "code",
   "execution_count": 27,
   "metadata": {
    "scrolled": true
   },
   "outputs": [
    {
     "name": "stdout",
     "output_type": "stream",
     "text": [
      "+---+---+---+--------+----+---+-------+-------+-----+-------+-----+---+----+------+\n",
      "|age|sex| cp|trestbps|chol|fbs|restecg|thalach|exang|oldpeak|slope| ca|thal|target|\n",
      "+---+---+---+--------+----+---+-------+-------+-----+-------+-----+---+----+------+\n",
      "| 37|  1|  2|     130| 250|  0|      1|    187|    0|    3.5|    0|  0|   2|     1|\n",
      "| 37|  0|  2|     120| 215|  0|      1|    170|    0|    0.0|    2|  0|   2|     1|\n",
      "+---+---+---+--------+----+---+-------+-------+-----+-------+-----+---+----+------+\n",
      "\n"
     ]
    }
   ],
   "source": [
    "# call an sql query on your temporary view and pass query into the sql() funcion\n",
    "\n",
    "sql_df = sparksession1.sql(\"SELECT * FROM temporary WHERE age = 37\").show()"
   ]
  },
  {
   "cell_type": "code",
   "execution_count": 28,
   "metadata": {},
   "outputs": [],
   "source": [
    "# create global temporary view (shared among all sessions)\n",
    "\n",
    "df.createGlobalTempView(\"tempglobal\")"
   ]
  },
  {
   "cell_type": "code",
   "execution_count": 30,
   "metadata": {
    "scrolled": true
   },
   "outputs": [
    {
     "name": "stdout",
     "output_type": "stream",
     "text": [
      "+---+---+---+--------+----+---+-------+-------+-----+-------+-----+---+----+------+\n",
      "|age|sex| cp|trestbps|chol|fbs|restecg|thalach|exang|oldpeak|slope| ca|thal|target|\n",
      "+---+---+---+--------+----+---+-------+-------+-----+-------+-----+---+----+------+\n",
      "| 63|  1|  3|     145| 233|  1|      0|    150|    0|    2.3|    0|  0|   1|     1|\n",
      "| 37|  1|  2|     130| 250|  0|      1|    187|    0|    3.5|    0|  0|   2|     1|\n",
      "| 56|  1|  1|     120| 236|  0|      1|    178|    0|    0.8|    2|  0|   2|     1|\n",
      "| 57|  1|  0|     140| 192|  0|      1|    148|    0|    0.4|    1|  0|   1|     1|\n",
      "| 44|  1|  1|     120| 263|  0|      1|    173|    0|    0.0|    2|  0|   3|     1|\n",
      "| 52|  1|  2|     172| 199|  1|      1|    162|    0|    0.5|    2|  0|   3|     1|\n",
      "| 57|  1|  2|     150| 168|  0|      1|    174|    0|    1.6|    2|  0|   2|     1|\n",
      "| 54|  1|  0|     140| 239|  0|      1|    160|    0|    1.2|    2|  0|   2|     1|\n",
      "| 49|  1|  1|     130| 266|  0|      1|    171|    0|    0.6|    2|  0|   2|     1|\n",
      "| 64|  1|  3|     110| 211|  0|      0|    144|    1|    1.8|    1|  0|   2|     1|\n",
      "| 43|  1|  0|     150| 247|  0|      1|    171|    0|    1.5|    2|  0|   2|     1|\n",
      "| 59|  1|  0|     135| 234|  0|      1|    161|    0|    0.5|    1|  0|   3|     1|\n",
      "| 44|  1|  2|     130| 233|  0|      1|    179|    1|    0.4|    2|  0|   2|     1|\n",
      "| 42|  1|  0|     140| 226|  0|      1|    178|    0|    0.0|    2|  0|   2|     1|\n",
      "| 61|  1|  2|     150| 243|  1|      1|    137|    1|    1.0|    1|  0|   2|     1|\n",
      "| 40|  1|  3|     140| 199|  0|      1|    178|    1|    1.4|    2|  0|   3|     1|\n",
      "| 59|  1|  2|     150| 212|  1|      1|    157|    0|    1.6|    2|  0|   2|     1|\n",
      "| 51|  1|  2|     110| 175|  0|      1|    123|    0|    0.6|    2|  0|   2|     1|\n",
      "| 53|  1|  2|     130| 197|  1|      0|    152|    0|    1.2|    0|  0|   2|     1|\n",
      "| 65|  1|  0|     120| 177|  0|      1|    140|    0|    0.4|    2|  0|   3|     1|\n",
      "+---+---+---+--------+----+---+-------+-------+-----+-------+-----+---+----+------+\n",
      "only showing top 20 rows\n",
      "\n"
     ]
    }
   ],
   "source": [
    "sql_df_global = sparksession1.sql(\"SELECT * FROM global_temp.tempglobal WHERE sex = 1\").show()"
   ]
  },
  {
   "cell_type": "code",
   "execution_count": 33,
   "metadata": {},
   "outputs": [
    {
     "name": "stdout",
     "output_type": "stream",
     "text": [
      "+---+---+---+--------+----+---+-------+-------+-----+-------+-----+---+----+------+\n",
      "|age|sex| cp|trestbps|chol|fbs|restecg|thalach|exang|oldpeak|slope| ca|thal|target|\n",
      "+---+---+---+--------+----+---+-------+-------+-----+-------+-----+---+----+------+\n",
      "| 63|  1|  3|     145| 233|  1|      0|    150|    0|    2.3|    0|  0|   1|     1|\n",
      "| 37|  1|  2|     130| 250|  0|      1|    187|    0|    3.5|    0|  0|   2|     1|\n",
      "| 41|  0|  1|     130| 204|  0|      0|    172|    0|    1.4|    2|  0|   2|     1|\n",
      "| 56|  1|  1|     120| 236|  0|      1|    178|    0|    0.8|    2|  0|   2|     1|\n",
      "| 57|  0|  0|     120| 354|  0|      1|    163|    1|    0.6|    2|  0|   2|     1|\n",
      "| 56|  0|  1|     140| 294|  0|      0|    153|    0|    1.3|    1|  0|   2|     1|\n",
      "| 44|  1|  1|     120| 263|  0|      1|    173|    0|    0.0|    2|  0|   3|     1|\n",
      "| 54|  1|  0|     140| 239|  0|      1|    160|    0|    1.2|    2|  0|   2|     1|\n",
      "| 48|  0|  2|     130| 275|  0|      1|    139|    0|    0.2|    2|  0|   2|     1|\n",
      "| 49|  1|  1|     130| 266|  0|      1|    171|    0|    0.6|    2|  0|   2|     1|\n",
      "| 64|  1|  3|     110| 211|  0|      0|    144|    1|    1.8|    1|  0|   2|     1|\n",
      "| 58|  0|  3|     150| 283|  1|      0|    162|    0|    1.0|    2|  0|   2|     1|\n",
      "| 50|  0|  2|     120| 219|  0|      1|    158|    0|    1.6|    1|  0|   2|     1|\n",
      "| 58|  0|  2|     120| 340|  0|      1|    172|    0|    0.0|    2|  0|   2|     1|\n",
      "| 66|  0|  3|     150| 226|  0|      1|    114|    0|    2.6|    0|  0|   2|     1|\n",
      "| 43|  1|  0|     150| 247|  0|      1|    171|    0|    1.5|    2|  0|   2|     1|\n",
      "| 69|  0|  3|     140| 239|  0|      1|    151|    0|    1.8|    2|  2|   2|     1|\n",
      "| 59|  1|  0|     135| 234|  0|      1|    161|    0|    0.5|    1|  0|   3|     1|\n",
      "| 44|  1|  2|     130| 233|  0|      1|    179|    1|    0.4|    2|  0|   2|     1|\n",
      "| 42|  1|  0|     140| 226|  0|      1|    178|    0|    0.0|    2|  0|   2|     1|\n",
      "+---+---+---+--------+----+---+-------+-------+-----+-------+-----+---+----+------+\n",
      "only showing top 20 rows\n",
      "\n"
     ]
    }
   ],
   "source": [
    "# access the global temporary view from a new session using the newSession() method\n",
    "\n",
    "# df.createGlobalTempView(\"tempglobal\")\n",
    "\n",
    "sparksession1.newSession().sql(\"SELECT * FROM global_temp.tempglobal WHERE chol > 200\").show()"
   ]
  },
  {
   "cell_type": "code",
   "execution_count": null,
   "metadata": {},
   "outputs": [],
   "source": []
  }
 ],
 "metadata": {
  "kernelspec": {
   "display_name": "Python 3",
   "language": "python",
   "name": "python3"
  },
  "language_info": {
   "codemirror_mode": {
    "name": "ipython",
    "version": 3
   },
   "file_extension": ".py",
   "mimetype": "text/x-python",
   "name": "python",
   "nbconvert_exporter": "python",
   "pygments_lexer": "ipython3",
   "version": "3.7.1"
  }
 },
 "nbformat": 4,
 "nbformat_minor": 2
}
